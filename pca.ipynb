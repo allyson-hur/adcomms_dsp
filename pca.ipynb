{
 "cells": [
  {
   "cell_type": "markdown",
   "metadata": {},
   "source": [
    "# Using Principal Component Analysis for Digital Signal Processing\n",
    "### Ayush Chakraborty, Allyson Hur, Cherry Pham, Suki Sacks"
   ]
  },
  {
   "cell_type": "markdown",
   "metadata": {},
   "source": [
    "## Abstract\n",
    "Digital Signal Processing (DSP) involves manipulating and analyzing signals to extract meaningful information. DSP normally relies on predefined algorithms and mathematical models for signal-processing tasks. This project explores the integration of principal component analysis (PCA) into DSP to enhance its capabilities and adaptability.\n",
    "\n",
    "The objective of this project is to investigate how PCA can be used for tasks such as signal denoising, modulation recognition, and feature extraction. By utilizing datasets containing diverse signal patterns, the project aims to develop a deeper understanding of the adaptability and versatility of PCA in regards to various signal processing challenges.\n"
   ]
  },
  {
   "cell_type": "code",
   "execution_count": null,
   "metadata": {},
   "outputs": [],
   "source": [
    "message_txt = \"Hello, world.\"\n",
    "message_bits, message_bits_txt = generate_signal(message_txt)"
   ]
  }
 ],
 "metadata": {
  "kernelspec": {
   "display_name": "Python 3",
   "language": "python",
   "name": "python3"
  },
  "language_info": {
   "codemirror_mode": {
    "name": "ipython",
    "version": 3
   },
   "file_extension": ".py",
   "mimetype": "text/x-python",
   "name": "python",
   "nbconvert_exporter": "python",
   "pygments_lexer": "ipython3",
   "version": "3.10.12"
  },
  "orig_nbformat": 4
 },
 "nbformat": 4,
 "nbformat_minor": 2
}
