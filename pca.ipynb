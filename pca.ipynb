{
 "cells": [
  {
   "cell_type": "markdown",
   "metadata": {},
   "source": [
    "# Using Principal Component Analysis for Digital Signal Processing\n",
    "### Ayush Chakraborty, Allyson Hur, Cherry Pham, Suki Sacks"
   ]
  },
  {
   "cell_type": "markdown",
   "metadata": {},
   "source": [
    "## Abstract\n",
    "Digital Signal Processing (DSP) involves manipulating and analyzing signals to extract meaningful information. DSP normally relies on predefined algorithms and mathematical models for signal-processing tasks. This project explores the integration of principal component analysis (PCA) into DSP to enhance its capabilities and adaptability.\n",
    "\n",
    "The objective of this project is to investigate how PCA can be used for tasks such as signal denoising, modulation recognition, and feature extraction. By utilizing datasets containing diverse signal patterns, the project aims to develop a deeper understanding of the adaptability and versatility of PCA in regards to various signal processing challenges."
   ]
  },
  {
   "cell_type": "markdown",
   "metadata": {},
   "source": [
    "## Implementation"
   ]
  },
  {
   "cell_type": "code",
   "execution_count": null,
   "metadata": {},
   "outputs": [],
   "source": [
    "from pca import *\n"
   ]
  },
  {
   "cell_type": "markdown",
   "metadata": {},
   "source": [
    "## Code Breakdown"
   ]
  },
  {
   "cell_type": "code",
   "execution_count": 1,
   "metadata": {},
   "outputs": [
    {
     "name": "stdout",
     "output_type": "stream",
     "text": [
      "T: Hello, world. -> 01001000011001010110110001101100011011110010110000100000011101110110111101110010011011000110010000101110\n",
      "R: Hello, world. -> 01001000011001010110110001101100011011110010110000100000011101110110111101110010011011000110010000101110\n",
      "tx_avg_power=0.2692567198366432\n",
      "noise_power=0.001\n",
      "snr=269.2567198366432\n",
      "ber=0.0\n",
      "T: Hello, world. -> 01001000011001010110110001101100011011110010110000100000011101110110111101110010011011000110010000101110\n"
     ]
    }
   ],
   "source": [
    "from pca_helpers import generate_signal\n",
    "message_txt = \"Hello, world.\"\n",
    "message_bits, message_bits_txt = generate_signal(message_txt)\n"
   ]
  },
  {
   "cell_type": "code",
   "execution_count": 6,
   "metadata": {},
   "outputs": [
    {
     "data": {
      "text/plain": [
       "[<matplotlib.lines.Line2D at 0x7f5ccc4f6170>]"
      ]
     },
     "execution_count": 6,
     "metadata": {},
     "output_type": "execute_result"
    },
    {
     "data": {
      "image/png": "[encoded data removed]",
      "text/plain": [
       "<Figure size 640x480 with 1 Axes>"
      ]
     },
     "metadata": {},
     "output_type": "display_data"
    }
   ],
   "source": [
    "from pca_helpers import generate_symbols, batched, translate_message_bits\n",
    "import matplotlib.pyplot as plt\n",
    "\n",
    "bits_per_symbol = 2\n",
    "symbols_of_t = generate_symbols(bits_per_symbol)\n",
    "\n",
    "x, t = translate_message_bits(bits_per_symbol, message_bits_txt)\n"
   ]
  },
  {
   "cell_type": "code",
   "execution_count": null,
   "metadata": {},
   "outputs": [],
   "source": [
    "y, x_modulated = transmit_signal(x)\n"
   ]
  },
  {
   "cell_type": "code",
   "execution_count": null,
   "metadata": {},
   "outputs": [],
   "source": [
    "coefs, principal_eig_vec = compute_eigen_symbols(symbols_of_t)\n"
   ]
  },
  {
   "cell_type": "code",
   "execution_count": null,
   "metadata": {},
   "outputs": [],
   "source": [
    "x_hat = decode_signal(pca_coef_to_symbol, principal_eig_vec, y)\n"
   ]
  },
  {
   "cell_type": "markdown",
   "metadata": {},
   "source": [
    "## What is Principle Component Analysis (PCA)?\n",
    "PCA is a dimensionality reduction technique used to transform the data into a new coordinate system in which the axes (basis vectors) are equivalent to the directions of maximum variance. The first principle component is the direction in which our symbols vary the most. In this case, our four symbols are -1, -0.3, 0.3, and 1. PCA will map these symbols into 1D representations of the variation. \n",
    "\n",
    "## Why don't we need to modulate our signal when using PCA? \n",
    "\n",
    "When running through our \"base case\" channel with just Gaussian noise, we did not have to demodulate when peforming PCA on our 4-PAM to get a good bit error rate (BER). In fact, when we demodulated, it actually increased the BER. Since we are projecting our different symbols into eigenvectors to separate them by frequency, we don't have to demodulate the signal to separate the various properties of our message because PCA has already done that for us! This is the same case with the Fourier Transform, which already separates the various sinusoidal functions into different frequencies. \n",
    "\n",
    "### A little more about the Fourier Transform...\n",
    "The Fourier Transform transforms a function of time into its frequency components by representing a function as a sum of sin and cosine waves (sinusoidal functions) with different frequencies. These waves function as the basis vectors in the frequency domain, representing different frequencies in the signal. "
   ]
  }
 ],
 "metadata": {
  "kernelspec": {
   "display_name": "Python 3",
   "language": "python",
   "name": "python3"
  },
  "language_info": {
   "codemirror_mode": {
    "name": "ipython",
    "version": 3
   },
   "file_extension": ".py",
   "mimetype": "text/x-python",
   "name": "python",
   "nbconvert_exporter": "python",
   "pygments_lexer": "ipython3",
   "version": "3.10.12"
  },
  "orig_nbformat": 4
 },
 "nbformat": 4,
 "nbformat_minor": 2
}
