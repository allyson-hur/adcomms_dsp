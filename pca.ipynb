{
 "cells": [
  {
   "cell_type": "markdown",
   "metadata": {},
   "source": [
    "# Using Principal Component Analysis for Digital Signal Processing\n",
    "### Ayush Chakraborty, Allyson Hur, Cherry Pham, Suki Sacks"
   ]
  },
  {
   "cell_type": "markdown",
   "metadata": {},
   "source": [
    "## Abstract\n",
    "Digital Signal Processing (DSP) involves manipulating and analyzing signals to extract meaningful information. DSP normally relies on predefined algorithms and mathematical models for signal-processing tasks. This project explores the integration of principal component analysis (PCA) into DSP to enhance its capabilities and adaptability.\n",
    "\n",
    "The objective of this project is to investigate how PCA can be used for tasks such as signal denoising, modulation recognition, and feature extraction. By utilizing datasets containing diverse signal patterns, the project aims to develop a deeper understanding of the adaptability and versatility of PCA in regards to various signal processing challenges.\n"
   ]
  },
  {
   "cell_type": "markdown",
   "metadata": {},
   "source": [
    "## Implementation"
   ]
  },
  {
   "cell_type": "markdown",
   "metadata": {},
   "source": [
    "Imports"
   ]
  },
  {
   "cell_type": "code",
   "execution_count": null,
   "metadata": {},
   "outputs": [],
   "source": [
    "from itertools import islice\n",
    "import scipy.stats as stats\n",
    "import numpy as np"
   ]
  },
  {
   "cell_type": "markdown",
   "metadata": {},
   "source": [
    "Sampling Parameters"
   ]
  },
  {
   "cell_type": "code",
   "execution_count": null,
   "metadata": {},
   "outputs": [],
   "source": [
    "f_sample_hz = 1e6\n",
    "dt = 1 / f_sample_hz\n",
    "samples_per_symbol = 200\n",
    "T_symbol = samples_per_symbol * dt\n",
    "\n",
    "symbol_zeros = np.zeros((samples_per_symbol,))\n",
    "\n",
    "# Zero-mean Gaussian noise.\n",
    "variance = 1e-3\n",
    "noiseRV = stats.norm(loc=0.0, scale=np.sqrt(variance))"
   ]
  },
  {
   "cell_type": "markdown",
   "metadata": {},
   "source": [
    "Batch Data"
   ]
  },
  {
   "cell_type": "code",
   "execution_count": null,
   "metadata": {},
   "outputs": [],
   "source": [
    "def batched(iterable, n):\n",
    "    \"Batch data into lists of length n. The last batch may be shorter.\"\n",
    "    # batched('ABCDEFG', 3) --> ABC DEF G\n",
    "    it = iter(iterable)\n",
    "    while True:\n",
    "        batch = list(islice(it, n))\n",
    "        if not batch:\n",
    "            return\n",
    "        yield batch"
   ]
  },
  {
   "cell_type": "markdown",
   "metadata": {},
   "source": [
    "Create a binary message"
   ]
  },
  {
   "cell_type": "code",
   "execution_count": null,
   "metadata": {},
   "outputs": [],
   "source": [
    "def generate_signal(message_txt: str):\n",
    "    message_bits_txt = \"\".join([f\"{ord(x):08b}\" for x in message_txt])\n",
    "    print(f\"T: {message_txt} -> {message_bits_txt}\")\n",
    "    message_bits = np.array([int(b) for b in message_bits_txt])\n",
    "\n",
    "    return message_bits, message_bits_txt\n",
    "\n",
    "\n",
    "message_txt = \"Hello, world.\"\n",
    "message_bits, message_bits_txt = generate_signal(message_txt)"
   ]
  },
  {
   "cell_type": "markdown",
   "metadata": {},
   "source": [
    "### **Transmitter Side**\n",
    "m[k] -> Encoder -> Symbols -> Modulator -> x(t)\n"
   ]
  },
  {
   "cell_type": "markdown",
   "metadata": {},
   "source": [
    "### Symbol Construction"
   ]
  },
  {
   "cell_type": "code",
   "execution_count": null,
   "metadata": {},
   "outputs": [],
   "source": [
    "def PAMGenerator(symbol, k=2, samples_per_symbol=10):\n",
    "    amplitudes = np.linspace(-1, 1, k)\n",
    "    if symbol < 0 or symbol > (k - 1):\n",
    "        raise ValueError(f\"{k}-PAM must have symbols in [0, {k-1}].\")\n",
    "    return amplitudes[symbol] * np.ones(\n",
    "        samples_per_symbol,\n",
    "    )\n",
    "    \n",
    "message_txt = \"Hello, world.\"\n",
    "message_bits, message_bits_txt = generate_signal(message_txt)"
   ]
  },
  {
   "cell_type": "code",
   "execution_count": null,
   "metadata": {},
   "outputs": [],
   "source": [
    "def generate_symbols(bits_per_symbol: int):\n",
    "    symbols_of_t = []\n",
    "    symbol_zeros = np.zeros((samples_per_symbol,))\n",
    "    N_symbols = 2**bits_per_symbol\n",
    "    for symbol in range(N_symbols):\n",
    "        x = PAMGenerator(symbol, k=N_symbols, samples_per_symbol=samples_per_symbol)\n",
    "        symbols_of_t.append(x)\n",
    "\n",
    "        # Note that we are concatenating our waveform with zeros before and after -\n",
    "        # this will make the plot and FFT a little more obvious.\n",
    "        x = np.concatenate((symbol_zeros, x, symbol_zeros))\n",
    "\n",
    "    return symbols_of_t\n",
    "bits_per_symbol = 2\n",
    "symbols_of_t = generate_symbols(bits_per_symbol)"
   ]
  },
  {
   "cell_type": "markdown",
   "metadata": {},
   "source": [
    "### Encoding"
   ]
  },
  {
   "cell_type": "markdown",
   "metadata": {},
   "source": [
    "### Modulation"
   ]
  },
  {
   "cell_type": "markdown",
   "metadata": {},
   "source": [
    "### **Channel Model**"
   ]
  },
  {
   "cell_type": "markdown",
   "metadata": {},
   "source": [
    "### **Receiver Side**\n",
    "y(t) -> IQ Demodulator -> Symbols -> Decoder -> m_hat[k]"
   ]
  }
 ],
 "metadata": {
  "kernelspec": {
   "display_name": "Python 3",
   "language": "python",
   "name": "python3"
  },
  "language_info": {
   "codemirror_mode": {
    "name": "ipython",
    "version": 3
   },
   "file_extension": ".py",
   "mimetype": "text/x-python",
   "name": "python",
   "nbconvert_exporter": "python",
   "pygments_lexer": "ipython3",
   "version": "3.10.12"
  },
  "orig_nbformat": 4
 },
 "nbformat": 4,
 "nbformat_minor": 2
}
